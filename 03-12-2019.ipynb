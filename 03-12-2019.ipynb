{
 "cells": [
  {
   "cell_type": "markdown",
   "metadata": {},
   "source": [
    "### Datatypes of Python Programming\n",
    "    - class - int float str\n",
    "    - int\n",
    "    - float\n",
    "    - str\n"
   ]
  },
  {
   "cell_type": "code",
   "execution_count": 7,
   "metadata": {},
   "outputs": [
    {
     "name": "stdout",
     "output_type": "stream",
     "text": [
      "12122121232121312121\n",
      "<class 'int'>\n"
     ]
    }
   ],
   "source": [
    "# Runtime Errors\n",
    "x = 12122121232121312121\n",
    "print(x)\n",
    "print(type(x))"
   ]
  },
  {
   "cell_type": "code",
   "execution_count": 9,
   "metadata": {},
   "outputs": [
    {
     "name": "stdout",
     "output_type": "stream",
     "text": [
      "12.89\n",
      "<class 'float'>\n"
     ]
    }
   ],
   "source": [
    "a = 12.89\n",
    "print(a)\n",
    "print(type(a))"
   ]
  },
  {
   "cell_type": "code",
   "execution_count": 13,
   "metadata": {},
   "outputs": [
    {
     "name": "stdout",
     "output_type": "stream",
     "text": [
      "Welcome to Python Programming\n",
      "application\n",
      "<class 'str'>\n",
      "<class 'str'>\n"
     ]
    }
   ],
   "source": [
    "s = \"Welcome to Python Programming\"\n",
    "s1 = 'application'\n",
    "print(s)\n",
    "print(s1)\n",
    "print(type(s))\n",
    "print(type(s1))"
   ]
  },
  {
   "cell_type": "markdown",
   "metadata": {},
   "source": [
    "###  Datatype Conversions\n",
    "- int()\n",
    "    - int() converts the input into int class\n",
    "- str()\n",
    "    - str() converts the input into string class\n",
    "- float()\n",
    "    - float() converts the input into float class"
   ]
  },
  {
   "cell_type": "code",
   "execution_count": 16,
   "metadata": {},
   "outputs": [
    {
     "name": "stdout",
     "output_type": "stream",
     "text": [
      "12.34\n",
      "<class 'float'>\n",
      "12\n",
      "<class 'int'>\n"
     ]
    }
   ],
   "source": [
    "f = 12.34\n",
    "print(f)\n",
    "print(type(f))\n",
    "x = int(f)\n",
    "print(x)\n",
    "print(type(x))"
   ]
  },
  {
   "cell_type": "code",
   "execution_count": 22,
   "metadata": {},
   "outputs": [
    {
     "name": "stdout",
     "output_type": "stream",
     "text": [
      "25.78 <class 'str'>\n",
      "25.78 <class 'float'>\n",
      "25 <class 'int'>\n"
     ]
    }
   ],
   "source": [
    "x = \"25.78\"\n",
    "print(x,end = ' ')\n",
    "print(type(x))\n",
    "a = float(x)\n",
    "print(a,end = ' ' )\n",
    "print(type(a))\n",
    "b = int(a)\n",
    "print(b,end = ' ')\n",
    "print(type(b))"
   ]
  },
  {
   "cell_type": "markdown",
   "metadata": {},
   "source": [
    "### Input Methods of Python\n",
    "- input() reads the input in terms of string type\n",
    "- You the conversion methods to convert into respective type\n",
    "    - like int() float() and str()"
   ]
  },
  {
   "cell_type": "code",
   "execution_count": 27,
   "metadata": {},
   "outputs": [
    {
     "name": "stdout",
     "output_type": "stream",
     "text": [
      "Enter Your Name 10\n",
      "10 <class 'str'>\n"
     ]
    }
   ],
   "source": [
    "s = input('Enter Your Name ')\n",
    "print(s,end = ' ')\n",
    "print(type(s))"
   ]
  },
  {
   "cell_type": "code",
   "execution_count": 31,
   "metadata": {},
   "outputs": [
    {
     "name": "stdout",
     "output_type": "stream",
     "text": [
      "10\n",
      "10 <class 'int'>\n"
     ]
    }
   ],
   "source": [
    "a = int(input(''))\n",
    "print(a,end = ' ')\n",
    "print(type(a))"
   ]
  },
  {
   "cell_type": "code",
   "execution_count": 30,
   "metadata": {},
   "outputs": [
    {
     "name": "stdout",
     "output_type": "stream",
     "text": [
      "190\n",
      "190.0 <class 'float'>\n"
     ]
    }
   ],
   "source": [
    "b = float(input(''))\n",
    "print(b,end = ' ')\n",
    "print(type(b))"
   ]
  },
  {
   "cell_type": "markdown",
   "metadata": {},
   "source": [
    "### Control flow statements\n",
    "- Conditional Statements\n",
    "    - if-else\n",
    "- Looping Statements\n",
    "    - while\n",
    "    - for"
   ]
  },
  {
   "cell_type": "code",
   "execution_count": null,
   "metadata": {},
   "outputs": [],
   "source": [
    "# if Boolean_Condtion :\n",
    "#    Statements\n",
    "# else :\n",
    "#    Statements"
   ]
  },
  {
   "cell_type": "code",
   "execution_count": 35,
   "metadata": {},
   "outputs": [
    {
     "name": "stdout",
     "output_type": "stream",
     "text": [
      "11\n",
      "Odd Number\n"
     ]
    }
   ],
   "source": [
    "# Read the number as input\n",
    "# Give the output as Even or odd\n",
    "a = int(input(''))\n",
    "if a % 2 == 0:\n",
    "    print(\"Even Number\")\n",
    "else :\n",
    "    print(\"Odd Number\")"
   ]
  },
  {
   "cell_type": "code",
   "execution_count": 37,
   "metadata": {},
   "outputs": [
    {
     "name": "stdout",
     "output_type": "stream",
     "text": [
      "Enter Your age25\n",
      "Eligible\n"
     ]
    }
   ],
   "source": [
    "# and, or , not True False\n",
    "# Read the age of the person as input\n",
    "# Print the output as whether he is eligible for voting or not\n",
    "# Eligible Range - 18 to 85\n",
    "age = int(input('Enter Your age'))\n",
    "if age >= 18 and age <= 85:\n",
    "    print('Eligible')\n",
    "else:\n",
    "    print('Not Eligible')"
   ]
  },
  {
   "cell_type": "code",
   "execution_count": 45,
   "metadata": {},
   "outputs": [
    {
     "name": "stdout",
     "output_type": "stream",
     "text": [
      "3.3333333333333335\n",
      "3\n",
      "1\n",
      "100\n",
      "10000000000\n",
      "False\n"
     ]
    }
   ],
   "source": [
    "a = 10\n",
    "b = 3\n",
    "print(a/b) # division but output is decimal value\n",
    "print(a//b) # divion but output is only int value\n",
    "print(a%b) # Modular Division output reminder\n",
    "print(a*10) # Multiplication\n",
    "print(a ** 10) # Power\n",
    "\n",
    "print(b%2 == 0)\n"
   ]
  },
  {
   "cell_type": "code",
   "execution_count": 48,
   "metadata": {},
   "outputs": [
    {
     "name": "stdout",
     "output_type": "stream",
     "text": [
      "Hello\n"
     ]
    }
   ],
   "source": [
    "if True:\n",
    "    print('Hello')\n",
    "else:\n",
    "    print('Bye')"
   ]
  },
  {
   "cell_type": "code",
   "execution_count": 50,
   "metadata": {},
   "outputs": [
    {
     "name": "stdout",
     "output_type": "stream",
     "text": [
      "5\n",
      "12\n",
      "25\n"
     ]
    }
   ],
   "source": [
    "# Read the input as two numbers\n",
    "# If the first number is greater than second number then the\n",
    "#    square of second number and vice-versa\n",
    "a1 = int(input(''))\n",
    "a2 = int(input(''))\n",
    "if a1>a2:\n",
    "    print(a2*a2)\n",
    "else:\n",
    "    print(a1*a1)"
   ]
  },
  {
   "cell_type": "code",
   "execution_count": 51,
   "metadata": {},
   "outputs": [
    {
     "name": "stdout",
     "output_type": "stream",
     "text": [
      "10\n",
      "Positive Number\n"
     ]
    }
   ],
   "source": [
    "# Read the number as input\n",
    "# Give the output as Negative, Positive or Zero\n",
    "a1 = int(input(''))\n",
    "if a1>0:\n",
    "    print('Positive Number')\n",
    "elif a1<0:\n",
    "    print('Negative Number')\n",
    "elif a1==0:\n",
    "    print('Zero Number')"
   ]
  },
  {
   "cell_type": "code",
   "execution_count": 52,
   "metadata": {},
   "outputs": [
    {
     "name": "stdout",
     "output_type": "stream",
     "text": [
      "Good\n"
     ]
    }
   ],
   "source": [
    "a = 100\n",
    "if a > 10:\n",
    "    print('Good')\n",
    "elif a > 20:\n",
    "    print('Better')\n",
    "elif a > 30:\n",
    "    print('Best')\n",
    "else :\n",
    "    print('Nothing')"
   ]
  },
  {
   "cell_type": "code",
   "execution_count": null,
   "metadata": {},
   "outputs": [],
   "source": [
    "# ++ and -- symbols will not work in python programming\n",
    "# while Boolean_Condition:\n",
    "#      Statements"
   ]
  },
  {
   "cell_type": "code",
   "execution_count": 54,
   "metadata": {},
   "outputs": [
    {
     "name": "stdout",
     "output_type": "stream",
     "text": [
      "1 2 3 4 5 6 7 8 9 10 "
     ]
    }
   ],
   "source": [
    "# Print the numbers from 1 to 10\n",
    "a = 1\n",
    "while a <= 10:\n",
    "    print(a,end = ' ')\n",
    "    a = a + 1 # a += 1"
   ]
  },
  {
   "cell_type": "code",
   "execution_count": 56,
   "metadata": {},
   "outputs": [
    {
     "name": "stdout",
     "output_type": "stream",
     "text": [
      "5\n",
      "15\n"
     ]
    }
   ],
   "source": [
    "# Read the N as input \n",
    "# Print the sum of N Natural numbers\n",
    "# 5 -- 15(1 + 2 + 3 + 4 + 5)\n",
    "n = int(input(''))\n",
    "start = 1\n",
    "sum = 0\n",
    "while start <= n:\n",
    "    sum += start # sum = sum + start\n",
    "    start += 1\n",
    "print(sum)"
   ]
  },
  {
   "cell_type": "code",
   "execution_count": 58,
   "metadata": {},
   "outputs": [
    {
     "name": "stdout",
     "output_type": "stream",
     "text": [
      "10\n",
      "2 4 6 8 10 "
     ]
    }
   ],
   "source": [
    "# Read the input as N \n",
    "# Print the only even numbers between 1 to N\n",
    "# 10 -- 2 4 6 8 10\n",
    "n = int(input(''))\n",
    "i = 1\n",
    "while i <= n :\n",
    "    if i % 2 == 0:\n",
    "        print(i,end = ' ')\n",
    "    i += 1"
   ]
  },
  {
   "cell_type": "code",
   "execution_count": 59,
   "metadata": {},
   "outputs": [
    {
     "name": "stdout",
     "output_type": "stream",
     "text": [
      "6\n",
      "1 2 3 6 "
     ]
    }
   ],
   "source": [
    "# Read the input as N\n",
    "# Print the Factors / Divisors of the number N\n",
    "# 6  - 1 2 3 6\n",
    "# 12 - 1 2 3 4 6 8 12\n",
    "# 24 - 1 2 3 4 6 8 12 24\n",
    "n = int(input(''))\n",
    "i = 1\n",
    "while i <= n:\n",
    "    if n % i == 0:\n",
    "        print(i,end = ' ')\n",
    "    i += 1"
   ]
  },
  {
   "cell_type": "code",
   "execution_count": 60,
   "metadata": {},
   "outputs": [
    {
     "data": {
      "text/plain": [
       "'C:\\\\Users\\\\Shirisha Putta'"
      ]
     },
     "execution_count": 60,
     "metadata": {},
     "output_type": "execute_result"
    }
   ],
   "source": [
    "pwd"
   ]
  },
  {
   "cell_type": "code",
   "execution_count": null,
   "metadata": {},
   "outputs": [],
   "source": []
  }
 ],
 "metadata": {
  "kernelspec": {
   "display_name": "Python 3",
   "language": "python",
   "name": "python3"
  },
  "language_info": {
   "codemirror_mode": {
    "name": "ipython",
    "version": 3
   },
   "file_extension": ".py",
   "mimetype": "text/x-python",
   "name": "python",
   "nbconvert_exporter": "python",
   "pygments_lexer": "ipython3",
   "version": "3.7.3"
  }
 },
 "nbformat": 4,
 "nbformat_minor": 2
}
