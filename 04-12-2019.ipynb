{
 "cells": [
  {
   "cell_type": "markdown",
   "metadata": {},
   "source": [
    "### Day Objectives\n",
    "- Loop examples\n",
    "- Functions (User defined Functions)\n",
    "- List, Tuples and string"
   ]
  },
  {
   "cell_type": "code",
   "execution_count": 2,
   "metadata": {},
   "outputs": [
    {
     "name": "stdout",
     "output_type": "stream",
     "text": [
      "145\n",
      "5 4 1 "
     ]
    }
   ],
   "source": [
    "# Read the number as input\n",
    "# Print the output as Digits of the number\n",
    "# Test Cases :-\n",
    "# 145   --   5 4 1\n",
    "# 123   --   3 2 1\n",
    "n = int(input(''))\n",
    "while n != 0 :\n",
    "    r = n % 10\n",
    "    print(r,end = ' ')\n",
    "    n = n // 10"
   ]
  },
  {
   "cell_type": "markdown",
   "metadata": {},
   "source": [
    "### Functions in Programming\n",
    "- Program will be divides into sub parts\n",
    "- It makes the re-use of the code\n",
    "- Functions makes the programming more easier\n",
    "- def is keyword which is used to define the function\n",
    "- Function name follows the camel case always\n",
    "    - fun() isPalindrome() isPalindromeCheck()\n",
    "- Defination of the function can be anything for the given requirement\n",
    "- def FunctionName(<Parameters>):\n",
    "    - statements\n",
    "    - return "
   ]
  },
  {
   "cell_type": "code",
   "execution_count": 3,
   "metadata": {},
   "outputs": [
    {
     "name": "stdout",
     "output_type": "stream",
     "text": [
      "58952\n"
     ]
    },
    {
     "data": {
      "text/plain": [
       "9"
      ]
     },
     "execution_count": 3,
     "metadata": {},
     "output_type": "execute_result"
    }
   ],
   "source": [
    "# Read the input as a number \n",
    "# Print the output as large digit of the given number\n",
    "# 58952  -- 9\n",
    "# 753124 -- 7\n",
    "def largeDigit(n):\n",
    "    #Logic\n",
    "    large = 0\n",
    "    while n != 0 :\n",
    "        r = n % 10\n",
    "        if large < r:\n",
    "            large = r\n",
    "        n = n // 10\n",
    "    return large\n",
    "n = int(input(''))\n",
    "largeDigit(n) # 9"
   ]
  },
  {
   "cell_type": "code",
   "execution_count": 4,
   "metadata": {},
   "outputs": [
    {
     "name": "stdout",
     "output_type": "stream",
     "text": [
      "145\n"
     ]
    },
    {
     "data": {
      "text/plain": [
       "10"
      ]
     },
     "execution_count": 4,
     "metadata": {},
     "output_type": "execute_result"
    }
   ],
   "source": [
    "# Read the input as a number\n",
    "# Sum of digits of the given number\n",
    "# 145  -- 10 (1+4+5)\n",
    "# 1243 -- 10\n",
    "def sumOfDigits(n):\n",
    "    s = 0\n",
    "    while n != 0 :\n",
    "        r = n % 10\n",
    "        s = s + r\n",
    "        n = n // 10\n",
    "    return s\n",
    "n = int(input(''))\n",
    "sumOfDigits(n)"
   ]
  },
  {
   "cell_type": "code",
   "execution_count": 7,
   "metadata": {},
   "outputs": [
    {
     "name": "stdout",
     "output_type": "stream",
     "text": [
      "1889\n"
     ]
    },
    {
     "data": {
      "text/plain": [
       "'Not a Palindrome'"
      ]
     },
     "execution_count": 7,
     "metadata": {},
     "output_type": "execute_result"
    }
   ],
   "source": [
    "# Read the input as number\n",
    "# Print the output as \"Palindrome\" or \"Not a Palindrome\"\n",
    "# A number reversed itself is same as original number called as Palindrome\n",
    "# 121 -- Palindrome\n",
    "# 1889 -- Not a Palindrome\n",
    "# 145  -- Not a Palindrome\n",
    "def isPalindrome(n):\n",
    "    s = 0\n",
    "    buffer = n\n",
    "    while n != 0:\n",
    "        r = n % 10\n",
    "        s = s * 10 + r\n",
    "        n = n // 10\n",
    "    if s == buffer:\n",
    "        return \"Palindrome\"\n",
    "    else :\n",
    "        return \"Not a Palindrome\"\n",
    "    return\n",
    "n = int(input(''))\n",
    "isPalindrome(n)"
   ]
  },
  {
   "cell_type": "code",
   "execution_count": 9,
   "metadata": {},
   "outputs": [
    {
     "name": "stdout",
     "output_type": "stream",
     "text": [
      "59852\n"
     ]
    },
    {
     "data": {
      "text/plain": [
       "8"
      ]
     },
     "execution_count": 9,
     "metadata": {},
     "output_type": "execute_result"
    }
   ],
   "source": [
    "# Read the number as input\n",
    "# Print the large Digit from last three positions of the number\n",
    "# Test Cases :-\n",
    "# 59852  -- 8\n",
    "# 175215 -- 5\n",
    "def printLargeDigit(n):\n",
    "    i = 0\n",
    "    large = 0\n",
    "    while i != 3:\n",
    "        r = n % 10\n",
    "        if large < r:\n",
    "            large = r\n",
    "        n = n // 10\n",
    "        i = i + 1\n",
    "    return large\n",
    "n = int(input(''))\n",
    "printLargeDigit(n)"
   ]
  },
  {
   "cell_type": "markdown",
   "metadata": {},
   "source": [
    "### Data Structures of Python Programming\n",
    "- List\n",
    "- Tuples\n",
    "- Dictonaries\n",
    "- Sets"
   ]
  },
  {
   "cell_type": "code",
   "execution_count": 10,
   "metadata": {},
   "outputs": [
    {
     "name": "stdout",
     "output_type": "stream",
     "text": [
      "[1, 2, 3, 4, 5]\n"
     ]
    }
   ],
   "source": [
    "li = [1,2,3,4,5]\n",
    "print(li)"
   ]
  },
  {
   "cell_type": "code",
   "execution_count": 12,
   "metadata": {},
   "outputs": [
    {
     "name": "stdout",
     "output_type": "stream",
     "text": [
      "[1, 2, 'Gitam', 199, 189.2, 'Hyderabad', 'a']\n"
     ]
    }
   ],
   "source": [
    "li1 = [1,2,\"Gitam\",199,189.2,\"Hyderabad\",'a']\n",
    "print(li1)"
   ]
  },
  {
   "cell_type": "code",
   "execution_count": 14,
   "metadata": {},
   "outputs": [
    {
     "data": {
      "text/plain": [
       "2"
      ]
     },
     "execution_count": 14,
     "metadata": {},
     "output_type": "execute_result"
    }
   ],
   "source": [
    "li[1]"
   ]
  },
  {
   "cell_type": "code",
   "execution_count": 16,
   "metadata": {},
   "outputs": [
    {
     "name": "stdout",
     "output_type": "stream",
     "text": [
      "1 2 3 4 5 "
     ]
    }
   ],
   "source": [
    "for i in range(len(li)):\n",
    "    print(li[i],end = ' ')"
   ]
  },
  {
   "cell_type": "code",
   "execution_count": 18,
   "metadata": {},
   "outputs": [
    {
     "name": "stdout",
     "output_type": "stream",
     "text": [
      "1 2 3 4 5 6 7 8 9 10 11 "
     ]
    }
   ],
   "source": [
    "for i in range(1,12):\n",
    "    print(i,end =' ')"
   ]
  },
  {
   "cell_type": "code",
   "execution_count": 23,
   "metadata": {},
   "outputs": [
    {
     "name": "stdout",
     "output_type": "stream",
     "text": [
      "0 2 4 6 8 10 12 14 16 18 20 22 24 "
     ]
    }
   ],
   "source": [
    "for i in range(0,25,2):\n",
    "    print(i,end = ' ')"
   ]
  },
  {
   "cell_type": "code",
   "execution_count": null,
   "metadata": {},
   "outputs": [],
   "source": []
  }
 ],
 "metadata": {
  "kernelspec": {
   "display_name": "Python 3",
   "language": "python",
   "name": "python3"
  },
  "language_info": {
   "codemirror_mode": {
    "name": "ipython",
    "version": 3
   },
   "file_extension": ".py",
   "mimetype": "text/x-python",
   "name": "python",
   "nbconvert_exporter": "python",
   "pygments_lexer": "ipython3",
   "version": "3.7.3"
  }
 },
 "nbformat": 4,
 "nbformat_minor": 2
}
